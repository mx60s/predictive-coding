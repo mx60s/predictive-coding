{
 "cells": [
  {
   "cell_type": "code",
   "execution_count": 2,
   "id": "1106d916-ba11-441f-8777-2cf93c8dee63",
   "metadata": {},
   "outputs": [],
   "source": [
    "import numpy as np\n",
    "import matplotlib.pyplot as plt\n",
    "import os"
   ]
  },
  {
   "cell_type": "code",
   "execution_count": null,
   "id": "ea3316a7-3f70-4035-9efc-dc182dd28f48",
   "metadata": {},
   "outputs": [],
   "source": [
    "# assumes that you've started up a headless minecraft session with\n",
    "# xvfb-run -a -e /dev/stdout -s '-screen 0 1400x900x24' ./launchClient.sh\n",
    "\n",
    "! ./malmo-real/Python_Examples/\n"
   ]
  }
 ],
 "metadata": {
  "kernelspec": {
   "display_name": "Python 3 (ipykernel)",
   "language": "python",
   "name": "python3"
  },
  "language_info": {
   "codemirror_mode": {
    "name": "ipython",
    "version": 3
   },
   "file_extension": ".py",
   "mimetype": "text/x-python",
   "name": "python",
   "nbconvert_exporter": "python",
   "pygments_lexer": "ipython3",
   "version": "3.11.5"
  }
 },
 "nbformat": 4,
 "nbformat_minor": 5
}
